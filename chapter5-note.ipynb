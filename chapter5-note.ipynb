{
 "cells": [
  {
   "cell_type": "markdown",
   "metadata": {},
   "source": [
    "# Chapter 5 - Knowing What to Comment"
   ]
  },
  {
   "cell_type": "markdown",
   "metadata": {},
   "source": [
    "Page 45\n",
    "\n",
    "The image shows two different tasks:\n",
    "- One is operating a complicated chainsaw and one is using a simple toaster with texts below that says \"Needed\" and \"Not Needed\"\n",
    "- What the book is trying to say is that the man with the chainsaw should be the one reading the instruction manuals instead of the man using the toaster.\n",
    "- So in our context, instead of instruction manuals, it would be comments.\n",
    "- so my guess is the book is trying to say that simple and easy to understand code do not need comments while the difficult ones do."
   ]
  },
  {
   "cell_type": "markdown",
   "metadata": {},
   "source": [
    "Page 46\n",
    "\n",
    "KEY IDEA: The purpose of commenting is to help the reader know as much as the writer did.\n",
    "\n",
    "This chapter focuses on the goal of commenting which is not just about explaining what the code does, but also to share valuable information that the writer has in their head. The readers lack the knowledge or information that the writer have while they were writing their code, so comments should fill that gap.\n",
    "In this chapter, we will focus on\n",
    "- Knowing what not to comments\n",
    "- Recording your thoughts as you code\n",
    "- Putting yourself in the readers' shoes, to imagine what they'll need to know"
   ]
  },
  {
   "cell_type": "markdown",
   "metadata": {},
   "source": [
    "### What NOT to Comment\n",
    "Page 47\n",
    "- Reading comments take a lot of time, and they also take up a lot of space on the screen.\n",
    "- So when we add comments, it has to be useful.\n",
    "- But the question is how do we know whether a comment is useful or not.\n",
    "\n",
    "All of the comments in this code are worthless:\n",
    "- 1st comment: This comment is unnescesssary because we can clearly read that the class is for account. So the code already reveals this so adding comment doesnt provide anything useful, it just takes up space on the screen instead.\n",
    "- 2nd comment: Because this is OOP, we can already know that this is the constructor so the comment is not needed.\n",
    "- 3rd comment: The method name SetProfit() already explain well already on what it does so the comment does not add anything.\n",
    "- 4th comment: It is the same as the third comment, the name of the Method GetProfit is already easy to understand."
   ]
  },
  {
   "cell_type": "markdown",
   "metadata": {},
   "source": [
    "Page 48\n",
    "\n",
    "So now we know these comments are worthless because they don't provide any new information or help the reader understand the code better because the code is already easy to understand.\n",
    "\n",
    "KEY IDEA: Don’t comment on facts that can be derived quickly from the code itself.\n",
    "\n",
    "The word \"Quickly\" is important in this sentense. We can check this python code example:\n",
    "- The code looks complicated but we can probably figure it out if we spend on time on it.\n",
    "- But if we read the comment, we can understand the code much faster.\n",
    "- Technically, the comment doesn't add any new information but it helps us understand the code faster.\n",
    "- So the idea is that the comment should either add new information or help us understand the code quickly."
   ]
  },
  {
   "cell_type": "markdown",
   "metadata": {},
   "source": [
    "#### Don’t Comment Just for the Sake of Commenting\n",
    "At school, some professors require their students to have comment for each function in the homework. I can vouch for this because my professor did the same in my 1st year.\n",
    "\n",
    "Because of this, some programmers would feel guilty if they leave a function without any comments so they end up just writing useless comments.\n",
    "\n",
    "So in the example, the comment is just the same meaning as the function name and arguments. We should remove this comment."
   ]
  },
  {
   "cell_type": "markdown",
   "metadata": {},
   "source": [
    "Page 49\n",
    "\n",
    "I am not even going to try to explain the comments, we can just assume that the comments here are useful.\n",
    "\n",
    "#### Don’t Comment Bad Names—Fix the Names Instead\n",
    "This is related to Chapter 3 which is about creating names that cannot be misunderstood.\n",
    "- So if we have a bad function or variable name, we shouldn't write a comment to explain the name. We should just fix the bad names instead.\n",
    "- Looking at the example, with the CleanReply() function, we can see that most of the comment is trying to explain what the word \"clean\" mean.\n",
    "- so instead we can remove the word clean and use \"enforce limits\" instead, and now the comment only include the useful part and it is shorter.\n",
    "- A good name is better than a good comment. it will take less space and it will be seen everywhere when we use the function.\n",
    "- Another example is deleteRegistry(), the word delete makes it sound like a dangerous function so the comment is trying to explain that it is not as dangerous as it sounds. \"This doesn't modify the actual registry\". So to fix, we can use the word release instead of delete.\n",
    "- so in general, we want to avoid \"crutch comments\", which are comments that are trying to make up for the unreadability of the code.\n",
    "- We want to remember this rule: Good Code > Bad Code + Good Comments"
   ]
  },
  {
   "cell_type": "markdown",
   "metadata": {},
   "source": [
    "#### Recording Your Thoughts\n",
    "We have learned about what not to comment, so now we will discuss about what should be commented.\n",
    "- it says here that alot of good comments is simply \"Recording Your Thoughts\". it means the important thoughts we had as we were writing the code.\n",
    "\n",
    "Page 50\n",
    "\n",
    "#### Inlude \"Director Commentary\"\n",
    "- Movies often have a “director commentary” track where the filmmakers give their insights and tell stories to help you understand how the film was made.\n",
    "- Similiar, we can include comments to record valuable insights about the code.\n",
    "- The comments here teach the reader about something so that the readers don't have to waste time trying to optimize the code.\n",
    "- Here's another comment, I think this comment means that process or method is not perfect and it's okay and that the reader shouldn't waste time trying to solve it 100%\n",
    "- We can also comment about how the code is not in a great shape and how it could be improve in the future.\n",
    "\n",
    "#### Comment the Flaws in your code\n",
    "- Code, especially written by a many people, is constantly evolving and it is bound to have flaws along the way.\n",
    "- So we shouldn't be embarassed to document those flaws.\n",
    "- Like the previous example, we can document improvements that can be made or when a code is incomplete\n",
    "- These are the markers that we can use [read table]\n",
    "\n",
    "Page 51\n",
    "\n",
    "- So there are different ways to use these markers, for example, Uppercase TODO can mean that it is for important issue that need to be done soon or Lowercase todo which means it is just a minor flaw.\n",
    "- It is important to comment on our thoughts about how the code should change in the future so that readers can know the quality and state of the code, and how they can improve it."
   ]
  },
  {
   "cell_type": "markdown",
   "metadata": {},
   "source": [
    "#### Comment on Your Constants\n",
    "- So this sections is about how constants, for example, NUM_THREAD = 8\n",
    "- We can add comments to give the reader more context about the constant like:\n",
    "- Why the constant value was chosen, // impose a reasonable limit\n",
    "- or how to adjust the value of the constant (e.g., setting it to 1 is probably too low, and setting it to 50 is overkill)\n",
    "- In these examples, the constants don't really need a comment, but it is doesn't hurt to add them because they can be helpful.\n",
    "- For example SECONDS_PER_DAY constant is already easy to understand so it doesn't need a comment but according to the book, most constants can be improved by adding a comment. So just commenting what we were thinking while deciding on the constant's value."
   ]
  },
  {
   "cell_type": "markdown",
   "metadata": {},
   "source": [
    "#### Put Yourself in the Reader's Shoes\n",
    "- A general technique from this book is to \"imagine what your code looks like to an outside\", so maybe someone who is reading the code for the first time. So this technique is useful to help us recognize what needs commenting.\n",
    "\n",
    "Page 52\n",
    "\n",
    "#### Anticipating likely questions\n",
    "- Explain picture.\n",
    "- So when someone else reads our code, there will be parts that make them think \"huh? what's this all about\" and our job is to add comments to those part.\n",
    "- the method seems to swap the data vector with an empty vector to clear all the data.\n",
    "- So the person might ask // Huh? Why not just data.clear()?\n",
    "- Apparently this is the only way to force a vector to relinquish or give up the control its memory to the memory allocator. It is a C++ that is not well known so a comment is needed."
   ]
  },
  {
   "cell_type": "markdown",
   "metadata": {},
   "source": [
    "Page 53\n",
    "\n",
    "#### Advertising Likely Pitfalls\n",
    "- This means we should document potential danger like this picture here, the painter should have put a \"wet paint\" sign before someone sit on it.\n",
    "- When documenting a function or a class, we can ask ourselves What is surprising about this code? How might it be misused? \n",
    "- We have to think ahead and anticipate problems that people might run int when using the code\n",
    "- Example:\n",
    "- This function connects to an email service, which can take up to a whole second or longer. \n",
    "- So someone might not know this and use the function to handle an HTTP request which can cause their application to hang or freeze if the email service is slow or down.\n",
    "\n",
    "Page 54\n",
    "\n",
    "- To prevent something like that, we can add a comment like this.\n",
    "- Another example is FixBrokenHTML(), it is a function to attempt to rewrite broken HTML by inserting missing closing tags.\n",
    "- The function works fine but the potential problem is when there are deeply nested and unmatched tags, the running time will blows up, so it could take minutes to execute.\n",
    "- Rather than let the user find out the hard way, its better to add a comment like this.\n",
    "\n",
    "#### \"Big Picture\" Comments\n",
    "- One of the hardest things for a new team member is to understand the \"Big Picture\" of the project --- how classes interact, how data flows through the whole system, and where the entry points are.\n",
    "- Consider this thought experiment: someone new just joined your team, she’s sitting next to you, and you need to get her familiar with the codebase.\n",
    "\n",
    "Page 55\n",
    "\n",
    "As you’re giving her a tour of the codebase, you might point out certain files or classes and say things like:\n",
    "• “This is the glue code between our business logic and the database. None of the application code should use this directly.”\n",
    "• “This class looks complicated, but it’s really just a smart cache. It doesn’t know anything about the rest of the system.”\n",
    "After a minute of casual conversation, your new team member will know much more than she would from reading the source by herself.\n",
    "\n",
    "This is exactly the type of information that should be included as high-level comments.\n",
    "Here’s a simple example of a file-level comment:\n",
    "\n",
    "    // This file contains helper functions that provide a more convenient interface to our\n",
    "    // file system. It handles file permissions and other nitty-gritty details.\n",
    "\n",
    "Don’t get overwhelmed by the thought that you have to write extensive, formal documentation. A few well-chosen sentences are better than nothing at all.\n",
    "\n",
    "#### Summary Comments\n",
    "- read the book"
   ]
  },
  {
   "cell_type": "markdown",
   "metadata": {},
   "source": [
    "Page 56\n",
    "- read"
   ]
  },
  {
   "cell_type": "markdown",
   "metadata": {},
   "source": [
    "Page 57\n",
    "- read"
   ]
  }
 ],
 "metadata": {
  "language_info": {
   "name": "python"
  }
 },
 "nbformat": 4,
 "nbformat_minor": 2
}
