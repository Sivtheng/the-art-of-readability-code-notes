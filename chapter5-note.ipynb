{
 "cells": [
  {
   "cell_type": "markdown",
   "metadata": {},
   "source": [
    "# Chapter 5 - Knowing What to Comment"
   ]
  },
  {
   "cell_type": "markdown",
   "metadata": {},
   "source": [
    "Page 45\n",
    "\n",
    "The image shows two different tasks:\n",
    "- One is operating a complicated chainsaw and one is using a simple toaster with texts below that says \"Needed\" and \"Not Needed\"\n",
    "- What the book is trying to say is that the man with the chainsaw should be the one reading the instruction manuals instead of the man using the toaster.\n",
    "- So in our context, instead of instruction manuals, it would be comments.\n",
    "- so my guess is the book is trying to say that simple and easy to understand code do not need comments while the difficult ones do."
   ]
  },
  {
   "cell_type": "markdown",
   "metadata": {},
   "source": [
    "Page 46\n",
    "\n",
    "KEY IDEA: The purpose of commenting is to help the reader know as much as the writer did.\n",
    "\n",
    "This chapter focuses on the goal of commenting which is not just about explaining what the code does, but also to share valuable information that the writer has in their head. The readers lack the knowledge or information that the writer have while they were writing their code, so comments should fill that gap.\n",
    "In this chapter, we will focus on\n",
    "- Knowing what not to comments\n",
    "- Recording your thoughts as you code\n",
    "- Putting yourself in the readers' shoes, to imagine what they'll need to know"
   ]
  },
  {
   "cell_type": "markdown",
   "metadata": {},
   "source": [
    "### What NOT to Comment\n",
    "Page 47\n",
    "- Reading comments take a lot of time, and they also take up a lot of space on the screen.\n",
    "- So when we add comments, it has to be useful.\n",
    "- But the question is how do we know whether a comment is useful or not.\n",
    "\n",
    "All of the comments in this code are worthless:\n",
    "- 1st comment: This comment is unnescesssary because we can clearly read that the class is for account. So the code already reveals this so adding comment doesnt provide anything useful, it just takes up space on the screen instead.\n",
    "- 2nd comment: Because this is OOP, we can already know that this is the constructor so the comment is not needed.\n",
    "- 3rd comment: The method name SetProfit() already explain well already on what it does so the comment does not add anything.\n",
    "- 4th comment: It is the same as the third comment, the name of the Method GetProfit is already easy to understand."
   ]
  },
  {
   "cell_type": "markdown",
   "metadata": {},
   "source": [
    "Page 48\n",
    "\n",
    "So now we know these comments are worthless because they don't provide any new information or help the reader understand the code better because the code is already easy to understand.\n",
    "\n",
    "KEY IDEA: Don’t comment on facts that can be derived quickly from the code itself.\n",
    "\n",
    "The word \"Quickly\" is important in this sentense. We can check this python code example:\n",
    "- The code looks complicated but we can probably figure it out if we spend on time on it.\n",
    "- But if we read the comment, we can understand the code much faster.\n",
    "- Technically, the comment doesn't add any new information but it helps us understand the code faster.\n",
    "- So the idea is that the comment should either add new information or help us understand the code quickly."
   ]
  },
  {
   "cell_type": "markdown",
   "metadata": {},
   "source": [
    "#### Don’t Comment Just for the Sake of Commenting\n",
    "At school, some professors require their students to have comment for each function in the homework. I can vouch for this because my professor did the same in my 1st year.\n",
    "\n",
    "Because of this, some programmers would feel guilty if they leave a function without any comments so they end up just writing useless comments.\n",
    "\n",
    "So in the example, the comment is just the same meaning as the function name and arguments. We should remove this comment."
   ]
  },
  {
   "cell_type": "markdown",
   "metadata": {},
   "source": [
    "Page 49\n",
    "\n",
    "I am not even going to try to explain the comments, we can just assume that the comments here are useful.\n",
    "\n",
    "#### Don’t Comment Bad Names—Fix the Names Instead\n",
    "This is related to Chapter 3 which is about creating names that cannot be misunderstood.\n",
    "- So if we have a bad function or variable name, we shouldn't write a comment to explain the name. We should just fix the bad names instead.\n",
    "- Looking at the example, with the CleanReply() function, we can see that most of the comment is trying to explain what the word \"clean\" mean.\n",
    "- so instead we can remove the word clean and use \"enforce limits\" instead, and now the comment only include the useful part and it is shorter.\n",
    "- A good name is better than a good comment. it will take less space and it will be seen everywhere when we use the function.\n",
    "- Another example is deleteRegistry(), the word delete makes it sound like a dangerous function so the comment is trying to explain that it is not as dangerous as it sounds. \"This doesn't modify the actual registry\". So to fix, we can use the word release instead of delete.\n",
    "- so in general, we want to avoid \"crutch comments\", which are comments that are trying to make up for the unreadability of the code.\n",
    "- We want to remember this rule: Good Code > Bad Code + Good Comments"
   ]
  },
  {
   "cell_type": "markdown",
   "metadata": {},
   "source": [
    "#### Recording Your Thoughts\n",
    "We have learned about what not to comment, so now we will discuss about what should be commented.\n",
    "- it says here that alot of good comments is simply \"Recording Your Thoughts\". it means the important thoughts we had as we were writing the code.\n",
    "\n",
    "Page 50\n",
    "\n"
   ]
  }
 ],
 "metadata": {
  "language_info": {
   "name": "python"
  }
 },
 "nbformat": 4,
 "nbformat_minor": 2
}
